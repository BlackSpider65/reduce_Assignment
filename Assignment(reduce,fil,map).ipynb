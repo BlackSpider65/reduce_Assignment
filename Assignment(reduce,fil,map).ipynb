{
 "cells": [
  {
   "cell_type": "markdown",
   "id": "06846d63",
   "metadata": {},
   "source": [
    "### Question no - 01"
   ]
  },
  {
   "cell_type": "code",
   "execution_count": 4,
   "id": "d5b220a2",
   "metadata": {},
   "outputs": [
    {
     "name": "stdout",
     "output_type": "stream",
     "text": [
      "('Jack Kallis', 25534)\n",
      "('Ricky Ponting', 27483)\n",
      "('Sachin Tendulkar', 34357)\n",
      "('Virat Kohli', 24936)\n"
     ]
    }
   ],
   "source": [
    "my_list = [('Sachin Tendulkar', 34357), ('Ricky Ponting', 27483), ('Jack Kallis', 25534), ('Virat Kohli', 24936)]\n",
    "sort_list = sorted(my_list,key=lambda a:a[0])\n",
    "for i in sort_list:\n",
    "    print(i)"
   ]
  },
  {
   "cell_type": "markdown",
   "id": "078be6e8",
   "metadata": {},
   "source": [
    "### Question no - 02"
   ]
  },
  {
   "cell_type": "code",
   "execution_count": 9,
   "id": "803e1780",
   "metadata": {},
   "outputs": [
    {
     "name": "stdout",
     "output_type": "stream",
     "text": [
      "[1, 4, 9, 16, 25, 36, 49, 64, 81, 100]\n"
     ]
    }
   ],
   "source": [
    "list_num = [1, 2, 3, 4, 5, 6, 7, 8, 9, 10]\n",
    "print(list(map(lambda a:a**2 , list_num)))\n"
   ]
  },
  {
   "cell_type": "markdown",
   "id": "9eebb10f",
   "metadata": {},
   "source": [
    "### Question no - 03"
   ]
  },
  {
   "cell_type": "code",
   "execution_count": 11,
   "id": "f61a7a07",
   "metadata": {},
   "outputs": [
    {
     "name": "stdout",
     "output_type": "stream",
     "text": [
      "('1', '2', '3', '4', '5', '6', '7', '8', '9', '10')\n"
     ]
    }
   ],
   "source": [
    "given_list =  [1, 2, 3, 4, 5, 6, 7, 8, 9, 10]\n",
    "result = tuple(map(lambda a:str(a),given_list))\n",
    "print(result)"
   ]
  },
  {
   "cell_type": "markdown",
   "id": "f4716671",
   "metadata": {},
   "source": [
    "### Question no - 04"
   ]
  },
  {
   "cell_type": "code",
   "execution_count": 17,
   "id": "73ef6c11",
   "metadata": {},
   "outputs": [
    {
     "name": "stdout",
     "output_type": "stream",
     "text": [
      "620448401733239439360000\n"
     ]
    }
   ],
   "source": [
    "from functools import reduce \n",
    "Given_list = list(range(1,25))\n",
    "print(reduce(lambda x,y:x*y , Given_list))"
   ]
  },
  {
   "cell_type": "markdown",
   "id": "46cdf0c6",
   "metadata": {},
   "source": [
    "### Question no - 05"
   ]
  },
  {
   "cell_type": "code",
   "execution_count": 18,
   "id": "23992185",
   "metadata": {},
   "outputs": [
    {
     "name": "stdout",
     "output_type": "stream",
     "text": [
      "[6, 60, 90, 120]\n"
     ]
    }
   ],
   "source": [
    "num_list = [2, 3, 6, 9, 27, 60, 90, 120, 55, 46]\n",
    "print(list(filter(lambda x:x%2==0 and x%3==0 , num_list)))"
   ]
  },
  {
   "cell_type": "markdown",
   "id": "5ee3e1fe",
   "metadata": {},
   "source": [
    "### Question no - 06"
   ]
  },
  {
   "cell_type": "code",
   "execution_count": 19,
   "id": "56c9e1be",
   "metadata": {},
   "outputs": [
    {
     "name": "stdout",
     "output_type": "stream",
     "text": [
      "['php', 'aba', 'radar', 'level']\n"
     ]
    }
   ],
   "source": [
    "num_list = ['python', 'php', 'aba', 'radar', 'level']\n",
    "print(list(filter(lambda x:x==x[::-1] , num_list)))"
   ]
  },
  {
   "cell_type": "code",
   "execution_count": null,
   "id": "c090d721",
   "metadata": {},
   "outputs": [],
   "source": []
  }
 ],
 "metadata": {
  "kernelspec": {
   "display_name": "Python 3 (ipykernel)",
   "language": "python",
   "name": "python3"
  },
  "language_info": {
   "codemirror_mode": {
    "name": "ipython",
    "version": 3
   },
   "file_extension": ".py",
   "mimetype": "text/x-python",
   "name": "python",
   "nbconvert_exporter": "python",
   "pygments_lexer": "ipython3",
   "version": "3.9.13"
  }
 },
 "nbformat": 4,
 "nbformat_minor": 5
}
